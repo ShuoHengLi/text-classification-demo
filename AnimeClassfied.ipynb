{
  "nbformat": 4,
  "nbformat_minor": 0,
  "metadata": {
    "colab": {
      "provenance": [],
      "collapsed_sections": [
        "bXMwEwhrgpeK",
        "sQ5pyg8chMEp",
        "ZoOu_i6uh-gP",
        "7cRdII7MiONf"
      ],
      "gpuType": "T4"
    },
    "kernelspec": {
      "name": "python3",
      "display_name": "Python 3"
    },
    "language_info": {
      "name": "python"
    },
    "accelerator": "GPU"
  },
  "cells": [
    {
      "cell_type": "markdown",
      "source": [
        "# 網路爬蟲"
      ],
      "metadata": {
        "id": "cbc4SjwfeYSB"
      }
    },
    {
      "cell_type": "markdown",
      "source": [
        "## 載入selenium環境參數準備爬蟲"
      ],
      "metadata": {
        "id": "Q_oHCHvRdsCM"
      }
    },
    {
      "cell_type": "code",
      "execution_count": 1,
      "metadata": {
        "colab": {
          "base_uri": "https://localhost:8080/"
        },
        "id": "u1WFQtHsV0e3",
        "outputId": "08f31982-defc-4b8b-9082-9fa3a7b216f4",
        "collapsed": true
      },
      "outputs": [
        {
          "output_type": "stream",
          "name": "stdout",
          "text": [
            "--2025-04-11 21:13:13--  https://edgedl.me.gvt1.com/edgedl/chrome/chrome-for-testing/135.0.7049.84/linux64/chrome-linux64.zip\n",
            "Resolving edgedl.me.gvt1.com (edgedl.me.gvt1.com)... 34.104.35.123, 2600:1900:4110:86f::\n",
            "Connecting to edgedl.me.gvt1.com (edgedl.me.gvt1.com)|34.104.35.123|:443... connected.\n",
            "HTTP request sent, awaiting response... 302 Found\n",
            "Location: https://storage.googleapis.com/chrome-for-testing-public/135.0.7049.84/linux64/chrome-linux64.zip [following]\n",
            "--2025-04-11 21:13:13--  https://storage.googleapis.com/chrome-for-testing-public/135.0.7049.84/linux64/chrome-linux64.zip\n",
            "Resolving storage.googleapis.com (storage.googleapis.com)... 172.217.218.207, 142.251.31.207, 142.251.18.207, ...\n",
            "Connecting to storage.googleapis.com (storage.googleapis.com)|172.217.218.207|:443... connected.\n",
            "HTTP request sent, awaiting response... 200 OK\n",
            "Length: 169532832 (162M) [application/zip]\n",
            "Saving to: ‘chrome-linux64.zip’\n",
            "\n",
            "chrome-linux64.zip  100%[===================>] 161.68M  40.8MB/s    in 4.6s    \n",
            "\n",
            "2025-04-11 21:13:18 (35.2 MB/s) - ‘chrome-linux64.zip’ saved [169532832/169532832]\n",
            "\n",
            "--2025-04-11 21:13:24--  https://edgedl.me.gvt1.com/edgedl/chrome/chrome-for-testing/135.0.7049.84/linux64/chromedriver-linux64.zip\n",
            "Resolving edgedl.me.gvt1.com (edgedl.me.gvt1.com)... 34.104.35.123, 2600:1900:4110:86f::\n",
            "Connecting to edgedl.me.gvt1.com (edgedl.me.gvt1.com)|34.104.35.123|:443... connected.\n",
            "HTTP request sent, awaiting response... 302 Found\n",
            "Location: https://storage.googleapis.com/chrome-for-testing-public/135.0.7049.84/linux64/chromedriver-linux64.zip [following]\n",
            "--2025-04-11 21:13:24--  https://storage.googleapis.com/chrome-for-testing-public/135.0.7049.84/linux64/chromedriver-linux64.zip\n",
            "Resolving storage.googleapis.com (storage.googleapis.com)... 172.217.218.207, 142.251.31.207, 142.251.18.207, ...\n",
            "Connecting to storage.googleapis.com (storage.googleapis.com)|172.217.218.207|:443... connected.\n",
            "HTTP request sent, awaiting response... 200 OK\n",
            "Length: 9578630 (9.1M) [application/zip]\n",
            "Saving to: ‘chromedriver.zip’\n",
            "\n",
            "chromedriver.zip    100%[===================>]   9.13M  10.4MB/s    in 0.9s    \n",
            "\n",
            "2025-04-11 21:13:25 (10.4 MB/s) - ‘chromedriver.zip’ saved [9578630/9578630]\n",
            "\n"
          ]
        }
      ],
      "source": [
        "!wget https://edgedl.me.gvt1.com/edgedl/chrome/chrome-for-testing/135.0.7049.84/linux64/chrome-linux64.zip -O chrome-linux64.zip\n",
        "!unzip -q chrome-linux64.zip\n",
        "!mv chrome-linux64 /opt/chrome\n",
        "\n",
        "import os\n",
        "os.environ['PATH'] += os.pathsep + \"/opt/chrome\"\n",
        "\n",
        "!wget https://edgedl.me.gvt1.com/edgedl/chrome/chrome-for-testing/135.0.7049.84/linux64/chromedriver-linux64.zip -O chromedriver.zip\n",
        "!unzip -q chromedriver.zip\n",
        "!mv chromedriver-linux64/chromedriver /usr/bin/chromedriver\n",
        "!chmod +x /usr/bin/chromedriver\n",
        "\n",
        "!pip install selenium > /dev/null\n"
      ]
    },
    {
      "cell_type": "code",
      "source": [
        "from selenium import webdriver\n",
        "from selenium.webdriver.chrome.service import Service\n",
        "from selenium.webdriver.common.by import By\n",
        "from selenium.webdriver.common.keys import Keys\n",
        "from selenium.common.exceptions import NoSuchElementException\n",
        "import time\n",
        "\n",
        "chrome_options = webdriver.ChromeOptions()\n",
        "chrome_options.add_argument(\"--headless\")\n",
        "chrome_options.add_argument(\"--no-sandbox\")\n",
        "chrome_options.add_argument(\"--disable-dev-shm-usage\")\n",
        "chrome_options.add_argument(\"--window-size=1920,1080\")\n",
        "\n",
        "driver = webdriver.Chrome(service=Service(\"/usr/bin/chromedriver\"), options=chrome_options)"
      ],
      "metadata": {
        "id": "FS5-Ur_bXWZ4"
      },
      "execution_count": 2,
      "outputs": []
    },
    {
      "cell_type": "markdown",
      "source": [
        "## 開始爬蟲，目標為bangumi上的動畫評論，記錄評論內容和分數"
      ],
      "metadata": {
        "id": "aAGl28jLeUcn"
      }
    },
    {
      "cell_type": "code",
      "source": [
        "url = \"https://bangumi.tv/subject/454684\"+\"/comments\"\n",
        "driver.get(url)\n",
        "time.sleep(3)\n",
        "\n",
        "rating = []\n",
        "nextpage_times = 0\n",
        "maxpage = float(\"inf\")\n",
        "while nextpage_times < maxpage:\n",
        "  IDs = driver.find_elements(By.CLASS_NAME, \"text\")\n",
        "  for ID in IDs:\n",
        "    try:\n",
        "      Comment = ID.find_element(By.CLASS_NAME, \"comment\")\n",
        "      Score = ID.find_element(By.CLASS_NAME, \"starstop-s\")\n",
        "      rating.append({\n",
        "              \"comment\": Comment.text,\n",
        "              \"score\": Score.find_element(By.XPATH, \".//*\").get_attribute(\"class\").replace(\"starlight stars\",\"\")\n",
        "              })\n",
        "    except:\n",
        "      continue\n",
        "  print(f\"第 {nextpage_times+1}頁，評論總數：{len(rating)}\")\n",
        "\n",
        "  try:\n",
        "      next_link = driver.find_element(By.LINK_TEXT, \"››\")\n",
        "      next_link.click()\n",
        "      nextpage_times += 1\n",
        "      time.sleep(2)\n",
        "  except NoSuchElementException:\n",
        "      break"
      ],
      "metadata": {
        "colab": {
          "base_uri": "https://localhost:8080/"
        },
        "collapsed": true,
        "id": "liMxneoNJ8aN",
        "outputId": "af5f9ce4-e56f-4ea7-efac-158f05a3db5f"
      },
      "execution_count": 19,
      "outputs": [
        {
          "output_type": "stream",
          "name": "stdout",
          "text": [
            "第 1頁，評論總數：18\n",
            "第 2頁，評論總數：37\n",
            "第 3頁，評論總數：57\n",
            "第 4頁，評論總數：77\n",
            "第 5頁，評論總數：97\n",
            "第 6頁，評論總數：114\n",
            "第 7頁，評論總數：132\n",
            "第 8頁，評論總數：149\n",
            "第 9頁，評論總數：169\n",
            "第 10頁，評論總數：189\n",
            "第 11頁，評論總數：209\n",
            "第 12頁，評論總數：226\n",
            "第 13頁，評論總數：243\n",
            "第 14頁，評論總數：262\n",
            "第 15頁，評論總數：280\n",
            "第 16頁，評論總數：298\n",
            "第 17頁，評論總數：315\n",
            "第 18頁，評論總數：332\n",
            "第 19頁，評論總數：349\n",
            "第 20頁，評論總數：368\n",
            "第 21頁，評論總數：387\n",
            "第 22頁，評論總數：407\n",
            "第 23頁，評論總數：424\n",
            "第 24頁，評論總數：444\n",
            "第 25頁，評論總數：462\n",
            "第 26頁，評論總數：481\n",
            "第 27頁，評論總數：501\n",
            "第 28頁，評論總數：520\n",
            "第 29頁，評論總數：540\n",
            "第 30頁，評論總數：560\n",
            "第 31頁，評論總數：579\n",
            "第 32頁，評論總數：598\n",
            "第 33頁，評論總數：618\n",
            "第 34頁，評論總數：638\n",
            "第 35頁，評論總數：655\n",
            "第 36頁，評論總數：674\n",
            "第 37頁，評論總數：693\n",
            "第 38頁，評論總數：713\n",
            "第 39頁，評論總數：733\n",
            "第 40頁，評論總數：751\n",
            "第 41頁，評論總數：768\n",
            "第 42頁，評論總數：783\n",
            "第 43頁，評論總數：803\n",
            "第 44頁，評論總數：822\n",
            "第 45頁，評論總數：839\n",
            "第 46頁，評論總數：859\n",
            "第 47頁，評論總數：877\n",
            "第 48頁，評論總數：894\n",
            "第 49頁，評論總數：914\n",
            "第 50頁，評論總數：931\n",
            "第 51頁，評論總數：950\n",
            "第 52頁，評論總數：970\n",
            "第 53頁，評論總數：987\n",
            "第 54頁，評論總數：1007\n",
            "第 55頁，評論總數：1026\n",
            "第 56頁，評論總數：1045\n",
            "第 57頁，評論總數：1064\n",
            "第 58頁，評論總數：1084\n",
            "第 59頁，評論總數：1104\n",
            "第 60頁，評論總數：1123\n",
            "第 61頁，評論總數：1143\n",
            "第 62頁，評論總數：1162\n",
            "第 63頁，評論總數：1182\n",
            "第 64頁，評論總數：1200\n",
            "第 65頁，評論總數：1219\n",
            "第 66頁，評論總數：1239\n",
            "第 67頁，評論總數：1259\n",
            "第 68頁，評論總數：1279\n",
            "第 69頁，評論總數：1299\n",
            "第 70頁，評論總數：1317\n",
            "第 71頁，評論總數：1337\n",
            "第 72頁，評論總數：1354\n",
            "第 73頁，評論總數：1373\n",
            "第 74頁，評論總數：1392\n",
            "第 75頁，評論總數：1412\n",
            "第 76頁，評論總數：1430\n",
            "第 77頁，評論總數：1449\n",
            "第 78頁，評論總數：1468\n",
            "第 79頁，評論總數：1488\n",
            "第 80頁，評論總數：1505\n",
            "第 81頁，評論總數：1525\n",
            "第 82頁，評論總數：1544\n",
            "第 83頁，評論總數：1564\n",
            "第 84頁，評論總數：1584\n",
            "第 85頁，評論總數：1604\n",
            "第 86頁，評論總數：1623\n",
            "第 87頁，評論總數：1643\n",
            "第 88頁，評論總數：1663\n",
            "第 89頁，評論總數：1682\n",
            "第 90頁，評論總數：1701\n",
            "第 91頁，評論總數：1720\n",
            "第 92頁，評論總數：1739\n",
            "第 93頁，評論總數：1759\n",
            "第 94頁，評論總數：1779\n",
            "第 95頁，評論總數：1799\n",
            "第 96頁，評論總數：1819\n",
            "第 97頁，評論總數：1838\n",
            "第 98頁，評論總數：1857\n",
            "第 99頁，評論總數：1876\n",
            "第 100頁，評論總數：1895\n",
            "第 101頁，評論總數：1914\n",
            "第 102頁，評論總數：1934\n",
            "第 103頁，評論總數：1954\n",
            "第 104頁，評論總數：1973\n",
            "第 105頁，評論總數：1991\n",
            "第 106頁，評論總數：2011\n",
            "第 107頁，評論總數：2030\n",
            "第 108頁，評論總數：2050\n",
            "第 109頁，評論總數：2070\n",
            "第 110頁，評論總數：2090\n",
            "第 111頁，評論總數：2108\n",
            "第 112頁，評論總數：2126\n",
            "第 113頁，評論總數：2143\n",
            "第 114頁，評論總數：2163\n",
            "第 115頁，評論總數：2183\n",
            "第 116頁，評論總數：2203\n",
            "第 117頁，評論總數：2220\n",
            "第 118頁，評論總數：2240\n",
            "第 119頁，評論總數：2259\n",
            "第 120頁，評論總數：2279\n",
            "第 121頁，評論總數：2299\n",
            "第 122頁，評論總數：2318\n",
            "第 123頁，評論總數：2338\n",
            "第 124頁，評論總數：2357\n",
            "第 125頁，評論總數：2377\n",
            "第 126頁，評論總數：2397\n",
            "第 127頁，評論總數：2413\n",
            "第 128頁，評論總數：2433\n",
            "第 129頁，評論總數：2452\n",
            "第 130頁，評論總數：2471\n",
            "第 131頁，評論總數：2491\n",
            "第 132頁，評論總數：2510\n",
            "第 133頁，評論總數：2530\n",
            "第 134頁，評論總數：2550\n",
            "第 135頁，評論總數：2569\n",
            "第 136頁，評論總數：2589\n",
            "第 137頁，評論總數：2609\n",
            "第 138頁，評論總數：2626\n",
            "第 139頁，評論總數：2646\n",
            "第 140頁，評論總數：2666\n",
            "第 141頁，評論總數：2684\n",
            "第 142頁，評論總數：2703\n",
            "第 143頁，評論總數：2721\n",
            "第 144頁，評論總數：2739\n",
            "第 145頁，評論總數：2758\n",
            "第 146頁，評論總數：2778\n",
            "第 147頁，評論總數：2798\n",
            "第 148頁，評論總數：2816\n",
            "第 149頁，評論總數：2835\n",
            "第 150頁，評論總數：2855\n",
            "第 151頁，評論總數：2873\n",
            "第 152頁，評論總數：2893\n",
            "第 153頁，評論總數：2913\n",
            "第 154頁，評論總數：2933\n",
            "第 155頁，評論總數：2951\n",
            "第 156頁，評論總數：2970\n",
            "第 157頁，評論總數：2989\n",
            "第 158頁，評論總數：3007\n",
            "第 159頁，評論總數：3027\n",
            "第 160頁，評論總數：3045\n",
            "第 161頁，評論總數：3064\n",
            "第 162頁，評論總數：3083\n",
            "第 163頁，評論總數：3103\n",
            "第 164頁，評論總數：3120\n",
            "第 165頁，評論總數：3138\n",
            "第 166頁，評論總數：3154\n",
            "第 167頁，評論總數：3172\n",
            "第 168頁，評論總數：3192\n",
            "第 169頁，評論總數：3211\n",
            "第 170頁，評論總數：3230\n",
            "第 171頁，評論總數：3249\n",
            "第 172頁，評論總數：3267\n",
            "第 173頁，評論總數：3287\n",
            "第 174頁，評論總數：3307\n",
            "第 175頁，評論總數：3326\n",
            "第 176頁，評論總數：3346\n",
            "第 177頁，評論總數：3365\n",
            "第 178頁，評論總數：3384\n",
            "第 179頁，評論總數：3402\n",
            "第 180頁，評論總數：3421\n",
            "第 181頁，評論總數：3441\n",
            "第 182頁，評論總數：3460\n",
            "第 183頁，評論總數：3480\n",
            "第 184頁，評論總數：3498\n",
            "第 185頁，評論總數：3517\n",
            "第 186頁，評論總數：3537\n",
            "第 187頁，評論總數：3556\n",
            "第 188頁，評論總數：3575\n",
            "第 189頁，評論總數：3594\n",
            "第 190頁，評論總數：3614\n",
            "第 191頁，評論總數：3632\n",
            "第 192頁，評論總數：3649\n",
            "第 193頁，評論總數：3667\n",
            "第 194頁，評論總數：3687\n",
            "第 195頁，評論總數：3706\n",
            "第 196頁，評論總數：3725\n",
            "第 197頁，評論總數：3745\n",
            "第 198頁，評論總數：3764\n",
            "第 199頁，評論總數：3784\n",
            "第 200頁，評論總數：3804\n",
            "第 201頁，評論總數：3823\n",
            "第 202頁，評論總數：3843\n",
            "第 203頁，評論總數：3861\n",
            "第 204頁，評論總數：3879\n",
            "第 205頁，評論總數：3899\n",
            "第 206頁，評論總數：3918\n",
            "第 207頁，評論總數：3937\n",
            "第 208頁，評論總數：3957\n",
            "第 209頁，評論總數：3976\n",
            "第 210頁，評論總數：3996\n",
            "第 211頁，評論總數：4016\n",
            "第 212頁，評論總數：4036\n",
            "第 213頁，評論總數：4053\n",
            "第 214頁，評論總數：4071\n",
            "第 215頁，評論總數：4088\n",
            "第 216頁，評論總數：4106\n",
            "第 217頁，評論總數：4123\n",
            "第 218頁，評論總數：4142\n",
            "第 219頁，評論總數：4160\n",
            "第 220頁，評論總數：4180\n",
            "第 221頁，評論總數：4199\n",
            "第 222頁，評論總數：4219\n",
            "第 223頁，評論總數：4238\n",
            "第 224頁，評論總數：4256\n",
            "第 225頁，評論總數：4275\n",
            "第 226頁，評論總數：4293\n",
            "第 227頁，評論總數：4311\n",
            "第 228頁，評論總數：4330\n",
            "第 229頁，評論總數：4349\n",
            "第 230頁，評論總數：4368\n",
            "第 231頁，評論總數：4388\n",
            "第 232頁，評論總數：4408\n",
            "第 233頁，評論總數：4425\n",
            "第 234頁，評論總數：4444\n",
            "第 235頁，評論總數：4463\n",
            "第 236頁，評論總數：4480\n",
            "第 237頁，評論總數：4498\n",
            "第 238頁，評論總數：4517\n",
            "第 239頁，評論總數：4536\n",
            "第 240頁，評論總數：4555\n",
            "第 241頁，評論總數：4573\n",
            "第 242頁，評論總數：4592\n",
            "第 243頁，評論總數：4611\n",
            "第 244頁，評論總數：4630\n",
            "第 245頁，評論總數：4649\n",
            "第 246頁，評論總數：4665\n",
            "第 247頁，評論總數：4682\n",
            "第 248頁，評論總數：4700\n",
            "第 249頁，評論總數：4716\n",
            "第 250頁，評論總數：4736\n",
            "第 251頁，評論總數：4755\n",
            "第 252頁，評論總數：4774\n",
            "第 253頁，評論總數：4793\n",
            "第 254頁，評論總數：4810\n",
            "第 255頁，評論總數：4829\n",
            "第 256頁，評論總數：4848\n",
            "第 257頁，評論總數：4868\n",
            "第 258頁，評論總數：4886\n",
            "第 259頁，評論總數：4905\n",
            "第 260頁，評論總數：4922\n",
            "第 261頁，評論總數：4940\n",
            "第 262頁，評論總數：4955\n",
            "第 263頁，評論總數：4972\n",
            "第 264頁，評論總數：4992\n",
            "第 265頁，評論總數：5012\n",
            "第 266頁，評論總數：5029\n",
            "第 267頁，評論總數：5049\n",
            "第 268頁，評論總數：5068\n",
            "第 269頁，評論總數：5087\n",
            "第 270頁，評論總數：5106\n",
            "第 271頁，評論總數：5124\n",
            "第 272頁，評論總數：5140\n",
            "第 273頁，評論總數：5160\n",
            "第 274頁，評論總數：5179\n",
            "第 275頁，評論總數：5198\n",
            "第 276頁，評論總數：5214\n",
            "第 277頁，評論總數：5233\n",
            "第 278頁，評論總數：5253\n",
            "第 279頁，評論總數：5270\n",
            "第 280頁，評論總數：5287\n",
            "第 281頁，評論總數：5306\n",
            "第 282頁，評論總數：5322\n",
            "第 283頁，評論總數：5342\n",
            "第 284頁，評論總數：5361\n",
            "第 285頁，評論總數：5379\n",
            "第 286頁，評論總數：5397\n",
            "第 287頁，評論總數：5416\n",
            "第 288頁，評論總數：5434\n",
            "第 289頁，評論總數：5453\n",
            "第 290頁，評論總數：5472\n",
            "第 291頁，評論總數：5490\n",
            "第 292頁，評論總數：5508\n",
            "第 293頁，評論總數：5527\n",
            "第 294頁，評論總數：5547\n",
            "第 295頁，評論總數：5566\n",
            "第 296頁，評論總數：5585\n",
            "第 297頁，評論總數：5604\n",
            "第 298頁，評論總數：5623\n",
            "第 299頁，評論總數：5641\n",
            "第 300頁，評論總數：5661\n",
            "第 301頁，評論總數：5678\n",
            "第 302頁，評論總數：5696\n",
            "第 303頁，評論總數：5716\n",
            "第 304頁，評論總數：5734\n",
            "第 305頁，評論總數：5752\n",
            "第 306頁，評論總數：5772\n",
            "第 307頁，評論總數：5790\n",
            "第 308頁，評論總數：5809\n",
            "第 309頁，評論總數：5825\n",
            "第 310頁，評論總數：5840\n",
            "第 311頁，評論總數：5857\n",
            "第 312頁，評論總數：5875\n",
            "第 313頁，評論總數：5894\n",
            "第 314頁，評論總數：5909\n",
            "第 315頁，評論總數：5926\n",
            "第 316頁，評論總數：5945\n",
            "第 317頁，評論總數：5961\n",
            "第 318頁，評論總數：5981\n",
            "第 319頁，評論總數：5994\n",
            "第 320頁，評論總數：6011\n",
            "第 321頁，評論總數：6029\n",
            "第 322頁，評論總數：6042\n",
            "第 323頁，評論總數：6059\n",
            "第 324頁，評論總數：6077\n",
            "第 325頁，評論總數：6096\n",
            "第 326頁，評論總數：6116\n",
            "第 327頁，評論總數：6130\n",
            "第 328頁，評論總數：6147\n",
            "第 329頁，評論總數：6166\n",
            "第 330頁，評論總數：6178\n",
            "第 331頁，評論總數：6197\n",
            "第 332頁，評論總數：6207\n",
            "第 333頁，評論總數：6215\n",
            "第 334頁，評論總數：6218\n",
            "第 335頁，評論總數：6220\n",
            "第 336頁，評論總數：6221\n"
          ]
        }
      ]
    },
    {
      "cell_type": "markdown",
      "source": [
        "## 畫出分數的分配比例圖"
      ],
      "metadata": {
        "id": "tCSPqKZfe5dY"
      }
    },
    {
      "cell_type": "code",
      "source": [
        "import matplotlib.pyplot as plt\n",
        "from collections import Counter\n",
        "\n",
        "labels = [int(item[\"score\"]) for item in rating]\n",
        "label_counts = Counter(labels)\n",
        "\n",
        "x = sorted(label_counts.keys())\n",
        "y = [label_counts[i] for i in x]\n",
        "\n",
        "plt.figure(figsize=(8, 5))\n",
        "plt.bar(x, y, color='skyblue')\n",
        "plt.xlabel(\"Score\")\n",
        "plt.ylabel(\"Count\")\n",
        "plt.title(\"Label Distribution\")\n",
        "plt.xticks(x)\n",
        "plt.grid(axis='y', linestyle='--', alpha=0.5)\n",
        "plt.show()\n"
      ],
      "metadata": {
        "colab": {
          "base_uri": "https://localhost:8080/",
          "height": 487
        },
        "id": "Ya50ly-LuaR6",
        "outputId": "a70ead47-ead2-4a1b-c490-8ec3906c7920"
      },
      "execution_count": 20,
      "outputs": [
        {
          "output_type": "display_data",
          "data": {
            "text/plain": [
              "<Figure size 800x500 with 1 Axes>"
            ],
            "image/png": "[encoded data removed]"
          },
          "metadata": {}
        }
      ]
    },
    {
      "cell_type": "markdown",
      "source": [
        "## 分割為train，validation和test三個檔案，並存為jsonl檔為後續fine tuning作準備"
      ],
      "metadata": {
        "id": "Vj1uBPrRfX5q"
      }
    },
    {
      "cell_type": "code",
      "source": [
        "import json\n",
        "import random\n",
        "from sklearn.model_selection import train_test_split\n",
        "\n",
        "random.seed(42)\n",
        "\n",
        "train_data, temp_data = train_test_split(rating, test_size=0.2, random_state=42)\n",
        "valid_data, test_data = train_test_split(temp_data, test_size=0.5, random_state=42)\n",
        "\n",
        "def save_jsonl(data, filename):\n",
        "    with open(filename, \"w\", encoding=\"utf-8\") as f:\n",
        "        for item in data:\n",
        "            f.write(json.dumps(item, ensure_ascii=False) + \"\\n\")\n",
        "\n",
        "save_jsonl(rating, \"rating.jsonl\")\n",
        "save_jsonl(train_data, \"train_data.jsonl\")\n",
        "save_jsonl(valid_data, \"valid_data.jsonl\")\n",
        "save_jsonl(test_data, \"test_data.jsonl\")"
      ],
      "metadata": {
        "id": "LH5kpewXmkvh"
      },
      "execution_count": 21,
      "outputs": []
    },
    {
      "cell_type": "markdown",
      "source": [
        "# fine tuning model"
      ],
      "metadata": {
        "id": "XwTK30o7ffB-"
      }
    },
    {
      "cell_type": "markdown",
      "source": [
        "## 下載hugging face的library作準備"
      ],
      "metadata": {
        "id": "eQ9gZ5D8fr_U"
      }
    },
    {
      "cell_type": "code",
      "source": [
        "!pip install transformers -q\n",
        "!pip install datasets\n",
        "import torch\n",
        "\n",
        "from datasets import Dataset\n"
      ],
      "metadata": {
        "id": "h3xVC-E1kfAx",
        "colab": {
          "base_uri": "https://localhost:8080/"
        },
        "collapsed": true,
        "outputId": "c2704cf0-24d6-4c0b-8afc-d57e699f0da2"
      },
      "execution_count": 1,
      "outputs": [
        {
          "output_type": "stream",
          "name": "stdout",
          "text": [
            "Requirement already satisfied: datasets in /usr/local/lib/python3.11/dist-packages (3.5.0)\n",
            "Requirement already satisfied: filelock in /usr/local/lib/python3.11/dist-packages (from datasets) (3.18.0)\n",
            "Requirement already satisfied: numpy>=1.17 in /usr/local/lib/python3.11/dist-packages (from datasets) (2.0.2)\n",
            "Requirement already satisfied: pyarrow>=15.0.0 in /usr/local/lib/python3.11/dist-packages (from datasets) (18.1.0)\n",
            "Requirement already satisfied: dill<0.3.9,>=0.3.0 in /usr/local/lib/python3.11/dist-packages (from datasets) (0.3.8)\n",
            "Requirement already satisfied: pandas in /usr/local/lib/python3.11/dist-packages (from datasets) (2.2.2)\n",
            "Requirement already satisfied: requests>=2.32.2 in /usr/local/lib/python3.11/dist-packages (from datasets) (2.32.3)\n",
            "Requirement already satisfied: tqdm>=4.66.3 in /usr/local/lib/python3.11/dist-packages (from datasets) (4.67.1)\n",
            "Requirement already satisfied: xxhash in /usr/local/lib/python3.11/dist-packages (from datasets) (3.5.0)\n",
            "Requirement already satisfied: multiprocess<0.70.17 in /usr/local/lib/python3.11/dist-packages (from datasets) (0.70.16)\n",
            "Requirement already satisfied: fsspec<=2024.12.0,>=2023.1.0 in /usr/local/lib/python3.11/dist-packages (from fsspec[http]<=2024.12.0,>=2023.1.0->datasets) (2024.12.0)\n",
            "Requirement already satisfied: aiohttp in /usr/local/lib/python3.11/dist-packages (from datasets) (3.11.15)\n",
            "Requirement already satisfied: huggingface-hub>=0.24.0 in /usr/local/lib/python3.11/dist-packages (from datasets) (0.30.1)\n",
            "Requirement already satisfied: packaging in /usr/local/lib/python3.11/dist-packages (from datasets) (24.2)\n",
            "Requirement already satisfied: pyyaml>=5.1 in /usr/local/lib/python3.11/dist-packages (from datasets) (6.0.2)\n",
            "Requirement already satisfied: aiohappyeyeballs>=2.3.0 in /usr/local/lib/python3.11/dist-packages (from aiohttp->datasets) (2.6.1)\n",
            "Requirement already satisfied: aiosignal>=1.1.2 in /usr/local/lib/python3.11/dist-packages (from aiohttp->datasets) (1.3.2)\n",
            "Requirement already satisfied: attrs>=17.3.0 in /usr/local/lib/python3.11/dist-packages (from aiohttp->datasets) (25.3.0)\n",
            "Requirement already satisfied: frozenlist>=1.1.1 in /usr/local/lib/python3.11/dist-packages (from aiohttp->datasets) (1.5.0)\n",
            "Requirement already satisfied: multidict<7.0,>=4.5 in /usr/local/lib/python3.11/dist-packages (from aiohttp->datasets) (6.3.2)\n",
            "Requirement already satisfied: propcache>=0.2.0 in /usr/local/lib/python3.11/dist-packages (from aiohttp->datasets) (0.3.1)\n",
            "Requirement already satisfied: yarl<2.0,>=1.17.0 in /usr/local/lib/python3.11/dist-packages (from aiohttp->datasets) (1.18.3)\n",
            "Requirement already satisfied: typing-extensions>=3.7.4.3 in /usr/local/lib/python3.11/dist-packages (from huggingface-hub>=0.24.0->datasets) (4.13.1)\n",
            "Requirement already satisfied: charset-normalizer<4,>=2 in /usr/local/lib/python3.11/dist-packages (from requests>=2.32.2->datasets) (3.4.1)\n",
            "Requirement already satisfied: idna<4,>=2.5 in /usr/local/lib/python3.11/dist-packages (from requests>=2.32.2->datasets) (3.10)\n",
            "Requirement already satisfied: urllib3<3,>=1.21.1 in /usr/local/lib/python3.11/dist-packages (from requests>=2.32.2->datasets) (2.3.0)\n",
            "Requirement already satisfied: certifi>=2017.4.17 in /usr/local/lib/python3.11/dist-packages (from requests>=2.32.2->datasets) (2025.1.31)\n",
            "Requirement already satisfied: python-dateutil>=2.8.2 in /usr/local/lib/python3.11/dist-packages (from pandas->datasets) (2.8.2)\n",
            "Requirement already satisfied: pytz>=2020.1 in /usr/local/lib/python3.11/dist-packages (from pandas->datasets) (2025.2)\n",
            "Requirement already satisfied: tzdata>=2022.7 in /usr/local/lib/python3.11/dist-packages (from pandas->datasets) (2025.2)\n",
            "Requirement already satisfied: six>=1.5 in /usr/local/lib/python3.11/dist-packages (from python-dateutil>=2.8.2->pandas->datasets) (1.17.0)\n"
          ]
        }
      ]
    },
    {
      "cell_type": "markdown",
      "source": [
        "## 讀取爬蟲時存下的jsonl檔"
      ],
      "metadata": {
        "id": "7UwE7Pxpf7EM"
      }
    },
    {
      "cell_type": "code",
      "source": [
        "train_dataset = Dataset.from_json(\"train_data.jsonl\")\n",
        "valid_dataset = Dataset.from_json(\"valid_data.jsonl\")\n",
        "test_dataset = Dataset.from_json(\"test_data.jsonl\")"
      ],
      "metadata": {
        "id": "xun-atU0lHVG"
      },
      "execution_count": 2,
      "outputs": []
    },
    {
      "cell_type": "markdown",
      "source": [
        "## Tokenize，並將分數label簡化為三類以得到更好的training效果"
      ],
      "metadata": {
        "id": "7AlnAH81gMOP"
      }
    },
    {
      "cell_type": "code",
      "source": [
        "from transformers import AutoTokenizer, BertTokenizer, AutoModelForSequenceClassification, BertForSequenceClassification, DataCollatorWithPadding\n",
        "import math\n",
        "\n",
        "tokenizer = AutoTokenizer.from_pretrained('uer/roberta-small-word-chinese-cluecorpussmall')\n",
        "\n",
        "def map_to_3class(score):\n",
        "    s = int(score)\n",
        "    if s <= 3:\n",
        "        return 0\n",
        "    elif s <= 7:\n",
        "        return 1\n",
        "    else:\n",
        "        return 2\n",
        "\n",
        "def tokenize_function(dataset):\n",
        "    tokenized = tokenizer(dataset[\"comment\"], truncation=True)\n",
        "    tokenized[\"labels\"] = [map_to_3class(s) for s in dataset[\"score\"]]\n",
        "    return tokenized\n",
        "\n",
        "def preprocess_function(dataset):\n",
        "    PreprocessData = dataset.map(tokenize_function, batched=True)\n",
        "    PreprocessData = PreprocessData.remove_columns([\"comment\", \"score\"])\n",
        "    return PreprocessData\n",
        "\n",
        "tokenize_train_datasets = preprocess_function(train_dataset)\n",
        "tokenize_valid_datasets = preprocess_function(valid_dataset)\n",
        "tokenize_test_datasets = preprocess_function(test_dataset)\n",
        "data_collator = DataCollatorWithPadding(tokenizer=tokenizer)"
      ],
      "metadata": {
        "colab": {
          "base_uri": "https://localhost:8080/"
        },
        "id": "FYlWdKjck6Rk",
        "outputId": "377b3385-3bcb-42e6-f1b3-d7ce1825f21b"
      },
      "execution_count": 3,
      "outputs": [
        {
          "output_type": "stream",
          "name": "stderr",
          "text": [
            "/usr/local/lib/python3.11/dist-packages/huggingface_hub/utils/_auth.py:94: UserWarning: \n",
            "The secret `HF_TOKEN` does not exist in your Colab secrets.\n",
            "To authenticate with the Hugging Face Hub, create a token in your settings tab (https://huggingface.co/settings/tokens), set it as secret in your Google Colab and restart your session.\n",
            "You will be able to reuse this secret in all of your notebooks.\n",
            "Please note that authentication is recommended but still optional to access public models or datasets.\n",
            "  warnings.warn(\n"
          ]
        }
      ]
    },
    {
      "cell_type": "markdown",
      "source": [
        "## 開始training"
      ],
      "metadata": {
        "id": "CHo0I50-glgR"
      }
    },
    {
      "cell_type": "markdown",
      "source": [
        "### 設定模型參數"
      ],
      "metadata": {
        "id": "bXMwEwhrgpeK"
      }
    },
    {
      "cell_type": "code",
      "source": [
        "import torch\n",
        "from torch.utils.data import DataLoader\n",
        "from torch.optim import AdamW\n",
        "from transformers import trainer, get_scheduler, DataCollatorWithPadding\n",
        "from sklearn.metrics import accuracy_score, precision_recall_fscore_support\n",
        "from tqdm import tqdm\n",
        "\n",
        "model = AutoModelForSequenceClassification.from_pretrained(\"uer/roberta-small-word-chinese-cluecorpussmall\", num_labels=5)\n",
        "device = torch.device(\"cuda\" if torch.cuda.is_available() else \"cpu\")\n",
        "model = model.to(device)\n",
        "\n",
        "batch_size = 32\n",
        "num_epochs = 100\n",
        "model_name = \"AnimeComment\"\n",
        "\n",
        "train_loader = DataLoader(tokenize_train_datasets, batch_size=batch_size, shuffle=True, collate_fn=data_collator)\n",
        "eval_loader = DataLoader(tokenize_valid_datasets, batch_size=batch_size, collate_fn=data_collator)\n",
        "\n",
        "# Optimizer & Scheduler\n",
        "optimizer = AdamW(model.parameters(), lr=2e-5, weight_decay=0.05)\n",
        "num_training_steps = len(train_loader) * num_epochs\n",
        "warmup_steps = num_training_steps * 0.1\n",
        "lr_scheduler = get_scheduler(\n",
        "    \"cosine\",\n",
        "    optimizer=optimizer,\n",
        "    num_warmup_steps=warmup_steps,\n",
        "    num_training_steps=num_training_steps\n",
        ")\n",
        "\n",
        "# compute metrics\n",
        "def compute_metrics(preds, labels):\n",
        "    preds = torch.argmax(preds, dim=-1).cpu().numpy()\n",
        "    labels = labels.cpu().numpy()\n",
        "    precision, recall, f1, _ = precision_recall_fscore_support(labels, preds, average='weighted')\n",
        "    acc = accuracy_score(labels, preds)\n",
        "    return {\n",
        "        'accuracy': round(acc, 4),\n",
        "        'precision': round(precision, 4),\n",
        "        'recall': round(recall, 4),\n",
        "        'f1': round(f1, 4)\n",
        "    }"
      ],
      "metadata": {
        "colab": {
          "base_uri": "https://localhost:8080/",
          "height": 554
        },
        "id": "QWi15M0g3jwm",
        "outputId": "46e7c4f5-85a0-4438-e94e-ca16a000c3b9"
      },
      "execution_count": 4,
      "outputs": [
        {
          "output_type": "stream",
          "name": "stderr",
          "text": [
            "Some weights of BertForSequenceClassification were not initialized from the model checkpoint at hfl/chinese-macbert-base and are newly initialized: ['classifier.bias', 'classifier.weight']\n",
            "You should probably TRAIN this model on a down-stream task to be able to use it for predictions and inference.\n",
            "/usr/local/lib/python3.11/dist-packages/transformers/training_args.py:1611: FutureWarning: `evaluation_strategy` is deprecated and will be removed in version 4.46 of 🤗 Transformers. Use `eval_strategy` instead\n",
            "  warnings.warn(\n",
            "/usr/local/lib/python3.11/dist-packages/transformers/training_args.py:1626: FutureWarning: using `no_cuda` is deprecated and will be removed in version 5.0 of 🤗 Transformers. Use `use_cpu` instead\n",
            "  warnings.warn(\n",
            "<ipython-input-4-a6fe9279d96b>:69: FutureWarning: `tokenizer` is deprecated and will be removed in version 5.0.0 for `Trainer.__init__`. Use `processing_class` instead.\n",
            "  trainer = Trainer(\n",
            "\u001b[34m\u001b[1mwandb\u001b[0m: \u001b[33mWARNING\u001b[0m The `run_name` is currently set to the same value as `TrainingArguments.output_dir`. If this was not intended, please specify a different run name by setting the `TrainingArguments.run_name` parameter.\n",
            "\u001b[34m\u001b[1mwandb\u001b[0m: Using wandb-core as the SDK backend.  Please refer to https://wandb.me/wandb-core for more information.\n",
            "\u001b[34m\u001b[1mwandb\u001b[0m: Currently logged in as: \u001b[33mcamelmaycry\u001b[0m (\u001b[33mcamelmaycry-none\u001b[0m) to \u001b[32mhttps://api.wandb.ai\u001b[0m. Use \u001b[1m`wandb login --relogin`\u001b[0m to force relogin\n"
          ]
        },
        {
          "output_type": "display_data",
          "data": {
            "text/plain": [
              "<IPython.core.display.HTML object>"
            ],
            "text/html": [
              "Tracking run with wandb version 0.19.9"
            ]
          },
          "metadata": {}
        },
        {
          "output_type": "display_data",
          "data": {
            "text/plain": [
              "<IPython.core.display.HTML object>"
            ],
            "text/html": [
              "Run data is saved locally in <code>/content/wandb/run-20250411_154942-k3nz01bx</code>"
            ]
          },
          "metadata": {}
        },
        {
          "output_type": "display_data",
          "data": {
            "text/plain": [
              "<IPython.core.display.HTML object>"
            ],
            "text/html": [
              "Syncing run <strong><a href='https://wandb.ai/camelmaycry-none/huggingface/runs/k3nz01bx' target=\"_blank\">AnimeComment</a></strong> to <a href='https://wandb.ai/camelmaycry-none/huggingface' target=\"_blank\">Weights & Biases</a> (<a href='https://wandb.me/developer-guide' target=\"_blank\">docs</a>)<br>"
            ]
          },
          "metadata": {}
        },
        {
          "output_type": "display_data",
          "data": {
            "text/plain": [
              "<IPython.core.display.HTML object>"
            ],
            "text/html": [
              " View project at <a href='https://wandb.ai/camelmaycry-none/huggingface' target=\"_blank\">https://wandb.ai/camelmaycry-none/huggingface</a>"
            ]
          },
          "metadata": {}
        },
        {
          "output_type": "display_data",
          "data": {
            "text/plain": [
              "<IPython.core.display.HTML object>"
            ],
            "text/html": [
              " View run at <a href='https://wandb.ai/camelmaycry-none/huggingface/runs/k3nz01bx' target=\"_blank\">https://wandb.ai/camelmaycry-none/huggingface/runs/k3nz01bx</a>"
            ]
          },
          "metadata": {}
        },
        {
          "output_type": "display_data",
          "data": {
            "text/plain": [
              "<IPython.core.display.HTML object>"
            ],
            "text/html": [
              "\n",
              "    <div>\n",
              "      \n",
              "      <progress value='292' max='292' style='width:300px; height:20px; vertical-align: middle;'></progress>\n",
              "      [292/292 1:10:03, Epoch 2/2]\n",
              "    </div>\n",
              "    <table border=\"1\" class=\"dataframe\">\n",
              "  <thead>\n",
              " <tr style=\"text-align: left;\">\n",
              "      <th>Epoch</th>\n",
              "      <th>Training Loss</th>\n",
              "      <th>Validation Loss</th>\n",
              "      <th>Accuracy</th>\n",
              "      <th>Precision</th>\n",
              "      <th>Recall</th>\n",
              "      <th>F1</th>\n",
              "    </tr>\n",
              "  </thead>\n",
              "  <tbody>\n",
              "    <tr>\n",
              "      <td>1</td>\n",
              "      <td>0.753400</td>\n",
              "      <td>0.624685</td>\n",
              "      <td>0.834483</td>\n",
              "      <td>0.696361</td>\n",
              "      <td>0.834483</td>\n",
              "      <td>0.759191</td>\n",
              "    </tr>\n",
              "    <tr>\n",
              "      <td>2</td>\n",
              "      <td>0.678600</td>\n",
              "      <td>0.564072</td>\n",
              "      <td>0.834483</td>\n",
              "      <td>0.696361</td>\n",
              "      <td>0.834483</td>\n",
              "      <td>0.759191</td>\n",
              "    </tr>\n",
              "  </tbody>\n",
              "</table><p>"
            ]
          },
          "metadata": {}
        },
        {
          "output_type": "stream",
          "name": "stderr",
          "text": [
            "/usr/local/lib/python3.11/dist-packages/sklearn/metrics/_classification.py:1565: UndefinedMetricWarning: Precision is ill-defined and being set to 0.0 in labels with no predicted samples. Use `zero_division` parameter to control this behavior.\n",
            "  _warn_prf(average, modifier, f\"{metric.capitalize()} is\", len(result))\n",
            "/usr/local/lib/python3.11/dist-packages/sklearn/metrics/_classification.py:1565: UndefinedMetricWarning: Precision is ill-defined and being set to 0.0 in labels with no predicted samples. Use `zero_division` parameter to control this behavior.\n",
            "  _warn_prf(average, modifier, f\"{metric.capitalize()} is\", len(result))\n"
          ]
        },
        {
          "output_type": "execute_result",
          "data": {
            "text/plain": [
              "TrainOutput(global_step=292, training_loss=0.8382787606487535, metrics={'train_runtime': 4246.6665, 'train_samples_per_second': 0.547, 'train_steps_per_second': 0.069, 'total_flos': 162044802574284.0, 'train_loss': 0.8382787606487535, 'epoch': 2.0})"
            ]
          },
          "metadata": {},
          "execution_count": 4
        }
      ]
    },
    {
      "cell_type": "markdown",
      "source": [
        "### 開始training"
      ],
      "metadata": {
        "id": "sQ5pyg8chMEp"
      }
    },
    {
      "cell_type": "code",
      "source": [
        "# data for picture drawing\n",
        "train_losses = []\n",
        "val_losses = []\n",
        "train_accuracies = []\n",
        "val_accuracies = []\n",
        "\n",
        "# Early stopping parameter\n",
        "best_f1 = 0\n",
        "patience_counter = 0\n",
        "early_stopping_patience = 5\n",
        "\n",
        "# training epochs\n",
        "for epoch in range(num_epochs):\n",
        "    # train\n",
        "    model.train()\n",
        "    total_loss = 0\n",
        "    correct_preds = 0\n",
        "    total_preds = 0\n",
        "    for batch in tqdm(train_loader, desc=f\"Epoch {epoch+1}\"):\n",
        "        batch = {k: v.to(device) for k, v in batch.items()}\n",
        "        outputs = model(**batch)\n",
        "        loss = outputs.loss\n",
        "\n",
        "        loss.backward()\n",
        "        optimizer.step()\n",
        "        lr_scheduler.step()\n",
        "        optimizer.zero_grad()\n",
        "\n",
        "        total_loss += loss.item()\n",
        "        preds = torch.argmax(outputs.logits, dim=-1)\n",
        "        correct_preds += (preds == batch[\"labels\"]).sum().item()\n",
        "        total_preds += batch[\"labels\"].size(0)\n",
        "\n",
        "    epoch_train_loss = total_loss / len(train_loader)\n",
        "    epoch_train_accuracy = correct_preds / total_preds\n",
        "    train_losses.append(epoch_train_loss)\n",
        "    train_accuracies.append(epoch_train_accuracy)\n",
        "    print(f\"Epoch {epoch+1}: Train Loss = {epoch_train_loss:.4f}, Train Accuracy = {epoch_train_accuracy:.4f}\")\n",
        "\n",
        "    # evaluate\n",
        "    model.eval()\n",
        "    all_preds = []\n",
        "    all_labels = []\n",
        "    eval_loss = 0\n",
        "    correct_preds = 0\n",
        "    total_preds = 0\n",
        "    with torch.no_grad():\n",
        "        for batch in tqdm(eval_loader, desc=\"Evaluating\"):\n",
        "            batch = {k: v.to(device) for k, v in batch.items()}\n",
        "            outputs = model(**batch)\n",
        "            eval_loss += outputs.loss.item()\n",
        "            preds = torch.argmax(outputs.logits, dim=-1)\n",
        "            correct_preds += (preds == batch[\"labels\"]).sum().item()\n",
        "            total_preds += batch[\"labels\"].size(0)\n",
        "            all_preds.append(outputs.logits)\n",
        "            all_labels.append(batch[\"labels\"])\n",
        "\n",
        "    epoch_eval_loss = eval_loss / len(eval_loader)\n",
        "    epoch_eval_accuracy = correct_preds / total_preds\n",
        "    val_losses.append(epoch_eval_loss)\n",
        "    val_accuracies.append(epoch_eval_accuracy)\n",
        "\n",
        "    all_preds = torch.cat(all_preds)\n",
        "    all_labels = torch.cat(all_labels)\n",
        "    metrics = compute_metrics(all_preds, all_labels)\n",
        "    print(f\"Validation Loss: {epoch_eval_loss:.4f}, Validation Accuracy: {epoch_eval_accuracy:.4f}, Metrics: {metrics}\")\n",
        "\n",
        "    final_epoch = epoch\n",
        "\n",
        "    # Early Stopping & Save\n",
        "    if metrics[\"f1\"] > best_f1:\n",
        "        best_f1 = metrics[\"f1\"]\n",
        "        patience_counter = 0\n",
        "        torch.save(model.state_dict(), \"best_model.pt\")\n",
        "        print(\"Model saved.\")\n",
        "    else:\n",
        "        patience_counter += 1\n",
        "        if patience_counter >= early_stopping_patience:\n",
        "            print(\"Early stopping triggered.\")\n",
        "            break"
      ],
      "metadata": {
        "colab": {
          "base_uri": "https://localhost:8080/"
        },
        "collapsed": true,
        "id": "LXKFZq_aJXCA",
        "outputId": "dbff182b-2bea-49ad-bfbf-77411d1fc87c"
      },
      "execution_count": 5,
      "outputs": [
        {
          "output_type": "stream",
          "name": "stderr",
          "text": [
            "Some weights of BertForSequenceClassification were not initialized from the model checkpoint at hfl/chinese-macbert-base and are newly initialized: ['classifier.bias', 'classifier.weight']\n",
            "You should probably TRAIN this model on a down-stream task to be able to use it for predictions and inference.\n"
          ]
        },
        {
          "output_type": "stream",
          "name": "stdout",
          "text": [
            "\n",
            "🧪 Checking batch 0\n",
            "input_ids: shape=torch.Size([32, 118]), dtype=torch.int64, device=cpu\n",
            "token_type_ids: shape=torch.Size([32, 118]), dtype=torch.int64, device=cpu\n",
            "attention_mask: shape=torch.Size([32, 118]), dtype=torch.int64, device=cpu\n",
            "labels: shape=torch.Size([32]), dtype=torch.int64, device=cpu\n",
            "Labels: tensor([3, 3, 3, 4, 3, 3, 3, 3, 3, 3, 3, 3, 3, 3, 3, 3, 3, 3, 3, 3, 3, 3, 3, 3,\n",
            "        4, 3, 3, 3, 3, 3, 3, 3])\n",
            "Unique labels in batch: tensor([3, 4])\n",
            "✅ Batch 0 passed. Loss: 1.4046\n",
            "\n",
            "🧪 Checking batch 1\n",
            "input_ids: shape=torch.Size([32, 191]), dtype=torch.int64, device=cpu\n",
            "token_type_ids: shape=torch.Size([32, 191]), dtype=torch.int64, device=cpu\n",
            "attention_mask: shape=torch.Size([32, 191]), dtype=torch.int64, device=cpu\n",
            "labels: shape=torch.Size([32]), dtype=torch.int64, device=cpu\n",
            "Labels: tensor([3, 3, 3, 3, 4, 3, 3, 4, 2, 3, 3, 3, 3, 2, 3, 3, 3, 3, 2, 3, 3, 3, 3, 3,\n",
            "        3, 3, 3, 3, 3, 3, 4, 3])\n",
            "Unique labels in batch: tensor([2, 3, 4])\n",
            "✅ Batch 1 passed. Loss: 1.4712\n",
            "\n",
            "🧪 Checking batch 2\n",
            "input_ids: shape=torch.Size([32, 111]), dtype=torch.int64, device=cpu\n",
            "token_type_ids: shape=torch.Size([32, 111]), dtype=torch.int64, device=cpu\n",
            "attention_mask: shape=torch.Size([32, 111]), dtype=torch.int64, device=cpu\n",
            "labels: shape=torch.Size([32]), dtype=torch.int64, device=cpu\n",
            "Labels: tensor([3, 3, 3, 3, 3, 3, 3, 3, 3, 3, 3, 3, 2, 2, 3, 3, 3, 3, 3, 4, 2, 3, 3, 3,\n",
            "        3, 3, 3, 3, 4, 3, 3, 3])\n",
            "Unique labels in batch: tensor([2, 3, 4])\n",
            "✅ Batch 2 passed. Loss: 1.4645\n",
            "\n",
            "🧪 Checking batch 3\n",
            "input_ids: shape=torch.Size([32, 282]), dtype=torch.int64, device=cpu\n",
            "token_type_ids: shape=torch.Size([32, 282]), dtype=torch.int64, device=cpu\n",
            "attention_mask: shape=torch.Size([32, 282]), dtype=torch.int64, device=cpu\n",
            "labels: shape=torch.Size([32]), dtype=torch.int64, device=cpu\n",
            "Labels: tensor([3, 2, 3, 3, 3, 3, 3, 2, 3, 2, 3, 3, 4, 3, 3, 3, 3, 3, 3, 3, 3, 3, 3, 3,\n",
            "        2, 3, 3, 3, 3, 3, 3, 3])\n",
            "Unique labels in batch: tensor([2, 3, 4])\n",
            "✅ Batch 3 passed. Loss: 1.4414\n",
            "\n",
            "🧪 Checking batch 4\n",
            "input_ids: shape=torch.Size([17, 366]), dtype=torch.int64, device=cpu\n",
            "token_type_ids: shape=torch.Size([17, 366]), dtype=torch.int64, device=cpu\n",
            "attention_mask: shape=torch.Size([17, 366]), dtype=torch.int64, device=cpu\n",
            "labels: shape=torch.Size([17]), dtype=torch.int64, device=cpu\n",
            "Labels: tensor([3, 3, 3, 3, 3, 3, 2, 2, 4, 2, 3, 3, 3, 2, 3, 2, 3])\n",
            "Unique labels in batch: tensor([2, 3, 4])\n",
            "✅ Batch 4 passed. Loss: 1.4752\n"
          ]
        }
      ]
    },
    {
      "cell_type": "markdown",
      "source": [
        "### 畫出learning curve"
      ],
      "metadata": {
        "id": "ZoOu_i6uh-gP"
      }
    },
    {
      "cell_type": "code",
      "source": [
        "import matplotlib.pyplot as plt\n",
        "plt.plot(range(1, final_epoch + 2), train_losses, 'b-', label=\"Train Loss\")\n",
        "plt.plot(range(1, final_epoch + 2), val_losses, 'b--', label=\"Val Loss\")\n",
        "plt.plot(range(1, final_epoch + 2), train_accuracies, 'r-', label=\"Train Accuracy\")\n",
        "plt.plot(range(1, final_epoch + 2), val_accuracies, 'r--', label=\"Val Accuracy\")\n",
        "plt.xlabel(\"Epochs\")\n",
        "plt.ylabel(\"Loss / Accuracy\")\n",
        "plt.title(\"Learning Curve\")\n",
        "plt.legend()\n",
        "plt.show()"
      ],
      "metadata": {
        "colab": {
          "base_uri": "https://localhost:8080/",
          "height": 323
        },
        "id": "z5-wxHrL7R2c",
        "outputId": "97af5ff9-f065-4013-c27c-b228d7fe53bd"
      },
      "execution_count": null,
      "outputs": [
        {
          "output_type": "stream",
          "name": "stderr",
          "text": [
            "\u001b[34m\u001b[1mwandb\u001b[0m: \u001b[33mWARNING\u001b[0m The `run_name` is currently set to the same value as `TrainingArguments.output_dir`. If this was not intended, please specify a different run name by setting the `TrainingArguments.run_name` parameter.\n",
            "\u001b[34m\u001b[1mwandb\u001b[0m: Using wandb-core as the SDK backend.  Please refer to https://wandb.me/wandb-core for more information.\n"
          ]
        },
        {
          "output_type": "display_data",
          "data": {
            "text/plain": [
              "<IPython.core.display.Javascript object>"
            ],
            "application/javascript": [
              "\n",
              "        window._wandbApiKey = new Promise((resolve, reject) => {\n",
              "            function loadScript(url) {\n",
              "            return new Promise(function(resolve, reject) {\n",
              "                let newScript = document.createElement(\"script\");\n",
              "                newScript.onerror = reject;\n",
              "                newScript.onload = resolve;\n",
              "                document.body.appendChild(newScript);\n",
              "                newScript.src = url;\n",
              "            });\n",
              "            }\n",
              "            loadScript(\"https://cdn.jsdelivr.net/npm/postmate/build/postmate.min.js\").then(() => {\n",
              "            const iframe = document.createElement('iframe')\n",
              "            iframe.style.cssText = \"width:0;height:0;border:none\"\n",
              "            document.body.appendChild(iframe)\n",
              "            const handshake = new Postmate({\n",
              "                container: iframe,\n",
              "                url: 'https://wandb.ai/authorize'\n",
              "            });\n",
              "            const timeout = setTimeout(() => reject(\"Couldn't auto authenticate\"), 5000)\n",
              "            handshake.then(function(child) {\n",
              "                child.on('authorize', data => {\n",
              "                    clearTimeout(timeout)\n",
              "                    resolve(data)\n",
              "                });\n",
              "            });\n",
              "            })\n",
              "        });\n",
              "    "
            ]
          },
          "metadata": {}
        },
        {
          "output_type": "stream",
          "name": "stderr",
          "text": [
            "\u001b[34m\u001b[1mwandb\u001b[0m: Logging into wandb.ai. (Learn how to deploy a W&B server locally: https://wandb.me/wandb-server)\n",
            "\u001b[34m\u001b[1mwandb\u001b[0m: You can find your API key in your browser here: https://wandb.ai/authorize\n",
            "wandb: Paste an API key from your profile and hit enter:"
          ]
        },
        {
          "name": "stdout",
          "output_type": "stream",
          "text": [
            " ··········\n"
          ]
        },
        {
          "output_type": "stream",
          "name": "stderr",
          "text": [
            "\u001b[34m\u001b[1mwandb\u001b[0m: \u001b[33mWARNING\u001b[0m If you're specifying your api key in code, ensure this code is not shared publicly.\n",
            "\u001b[34m\u001b[1mwandb\u001b[0m: \u001b[33mWARNING\u001b[0m Consider setting the WANDB_API_KEY environment variable, or running `wandb login` from the command line.\n",
            "\u001b[34m\u001b[1mwandb\u001b[0m: No netrc file found, creating one.\n",
            "\u001b[34m\u001b[1mwandb\u001b[0m: Appending key for api.wandb.ai to your netrc file: /root/.netrc\n",
            "\u001b[34m\u001b[1mwandb\u001b[0m: Currently logged in as: \u001b[33mcamelmaycry\u001b[0m (\u001b[33mcamelmaycry-none\u001b[0m) to \u001b[32mhttps://api.wandb.ai\u001b[0m. Use \u001b[1m`wandb login --relogin`\u001b[0m to force relogin\n"
          ]
        },
        {
          "output_type": "display_data",
          "data": {
            "text/plain": [
              "<IPython.core.display.HTML object>"
            ],
            "text/html": [
              "Tracking run with wandb version 0.19.9"
            ]
          },
          "metadata": {}
        },
        {
          "output_type": "display_data",
          "data": {
            "text/plain": [
              "<IPython.core.display.HTML object>"
            ],
            "text/html": [
              "Run data is saved locally in <code>/content/wandb/run-20250411_153650-udxfi2v6</code>"
            ]
          },
          "metadata": {}
        },
        {
          "output_type": "display_data",
          "data": {
            "text/plain": [
              "<IPython.core.display.HTML object>"
            ],
            "text/html": [
              "Syncing run <strong><a href='https://wandb.ai/camelmaycry-none/huggingface/runs/udxfi2v6' target=\"_blank\">AnimeComment</a></strong> to <a href='https://wandb.ai/camelmaycry-none/huggingface' target=\"_blank\">Weights & Biases</a> (<a href='https://wandb.me/developer-guide' target=\"_blank\">docs</a>)<br>"
            ]
          },
          "metadata": {}
        },
        {
          "output_type": "display_data",
          "data": {
            "text/plain": [
              "<IPython.core.display.HTML object>"
            ],
            "text/html": [
              " View project at <a href='https://wandb.ai/camelmaycry-none/huggingface' target=\"_blank\">https://wandb.ai/camelmaycry-none/huggingface</a>"
            ]
          },
          "metadata": {}
        },
        {
          "output_type": "display_data",
          "data": {
            "text/plain": [
              "<IPython.core.display.HTML object>"
            ],
            "text/html": [
              " View run at <a href='https://wandb.ai/camelmaycry-none/huggingface/runs/udxfi2v6' target=\"_blank\">https://wandb.ai/camelmaycry-none/huggingface/runs/udxfi2v6</a>"
            ]
          },
          "metadata": {}
        }
      ]
    },
    {
      "cell_type": "markdown",
      "source": [
        "### 儲存model參數"
      ],
      "metadata": {
        "id": "7cRdII7MiONf"
      }
    },
    {
      "cell_type": "code",
      "source": [
        "model.save_pretrained(f\"{model_name}_best\")\n",
        "tokenizer.save_pretrained(f\"{model_name}_best\")"
      ],
      "metadata": {
        "id": "G9vaOPWappM8"
      },
      "execution_count": null,
      "outputs": []
    },
    {
      "cell_type": "markdown",
      "source": [
        "## 開始testing"
      ],
      "metadata": {
        "id": "SWvvKrpbid6z"
      }
    },
    {
      "cell_type": "code",
      "source": [
        "def test_model(model, test_dataset, tokenizer, batch_size=32, device=\"cuda\"):\n",
        "    model.eval()\n",
        "    model.to(device)\n",
        "\n",
        "    test_dataloader = DataLoader(\n",
        "        test_dataset,\n",
        "        batch_size=batch_size,\n",
        "        shuffle=False,\n",
        "        collate_fn=data_collator\n",
        "    )\n",
        "\n",
        "    all_preds = []\n",
        "    all_labels = []\n",
        "\n",
        "    with torch.no_grad():\n",
        "        for batch in test_dataloader:\n",
        "            batch = {k: v.to(device) for k, v in batch.items()}\n",
        "            outputs = model(**batch)\n",
        "            logits = outputs.logits\n",
        "            preds = torch.argmax(logits, dim=-1)\n",
        "\n",
        "            all_preds.extend(preds.cpu().numpy())\n",
        "            all_labels.extend(batch[\"labels\"].cpu().numpy())\n",
        "\n",
        "    acc = accuracy_score(all_labels, all_preds)\n",
        "    precision, recall, f1, _ = precision_recall_fscore_support(all_labels, all_preds, average='weighted')\n",
        "\n",
        "    print(f\"Test Accuracy: {acc:.4f}\")\n",
        "    print(f\"Test Precision: {precision:.4f}\")\n",
        "    print(f\"Test Recall: {recall:.4f}\")\n",
        "    print(f\"Test F1 Score: {f1:.4f}\")\n",
        "\n",
        "    return all_preds, all_labels\n",
        "\n",
        "device = torch.device(\"cuda\" if torch.cuda.is_available() else \"cpu\")\n",
        "test_preds, test_labels = test_model(model, tokenize_test_datasets, tokenizer, batch_size=32, device=device)"
      ],
      "metadata": {
        "id": "nJ3RR9uWiaj9"
      },
      "execution_count": null,
      "outputs": []
    },
    {
      "cell_type": "markdown",
      "source": [
        "## inference"
      ],
      "metadata": {
        "id": "32CWLQVXi8tJ"
      }
    },
    {
      "cell_type": "markdown",
      "source": [
        "### 設定inference功能"
      ],
      "metadata": {
        "id": "4gv_wuChjCaR"
      }
    },
    {
      "cell_type": "code",
      "source": [
        "from transformers import AutoTokenizer, AutoModelForSequenceClassification\n",
        "\n",
        "model_path = \"AnimeComment_best\"\n",
        "tokenizer = AutoTokenizer.from_pretrained(model_path)\n",
        "model = AutoModelForSequenceClassification.from_pretrained(model_path)\n",
        "device = torch.device(\"cuda\" if torch.cuda.is_available() else \"cpu\")\n",
        "model.to(device)\n",
        "model.eval()\n",
        "\n",
        "def inference_function(texts):\n",
        "    inputs = tokenizer(texts, padding=True, truncation=True, return_tensors=\"pt\", max_length=512)\n",
        "\n",
        "    inputs = {key: val.to(device) for key, val in inputs.items()}\n",
        "\n",
        "    with torch.no_grad():\n",
        "        outputs = model(**inputs)\n",
        "        logits = outputs.logits\n",
        "        predictions = torch.argmax(logits, dim=-1)\n",
        "\n",
        "    return predictions.cpu().numpy()"
      ],
      "metadata": {
        "id": "TG0zY6PZiydn"
      },
      "execution_count": null,
      "outputs": []
    },
    {
      "cell_type": "markdown",
      "source": [
        "### 實測inference"
      ],
      "metadata": {
        "id": "bvgax8jGjLjn"
      }
    },
    {
      "cell_type": "code",
      "source": [
        "test_text = \"祥子與他的伙伴們的過家家，最後大團圓也拉不回分數\"\n",
        "prediction = inference_function(test_text)\n",
        "print(f\"Predicted label: {prediction}\")"
      ],
      "metadata": {
        "id": "Q5DZ5-78jJ0e"
      },
      "execution_count": null,
      "outputs": []
    }
  ]
}